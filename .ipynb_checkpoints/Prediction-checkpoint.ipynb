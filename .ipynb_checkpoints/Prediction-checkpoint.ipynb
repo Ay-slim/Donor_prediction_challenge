{
 "cells": [
  {
   "cell_type": "code",
   "execution_count": 4,
   "metadata": {},
   "outputs": [],
   "source": [
    "import pandas as pd\n",
    "import numpy as np\n",
    "import seaborn as sns\n",
    "import matplotlib.pyplot as plt\n",
    "from numpy import mean\n",
    "from numpy import std\n",
    "from sklearn.datasets import make_classification\n",
    "from sklearn.model_selection import cross_val_score\n",
    "from sklearn.model_selection import RepeatedStratifiedKFold\n",
    "from sklearn.feature_selection import RFE\n",
    "from sklearn.tree import DecisionTreeClassifier\n",
    "from sklearn.pipeline import Pipeline\n",
    "from matplotlib import pyplot\n",
    "from sklearn.preprocessing import MinMaxScaler\n",
    "from sklearn.datasets import make_classification\n",
    "from sklearn.linear_model import LogisticRegression\n",
    "from sklearn.tree import DecisionTreeRegressor\n",
    "from sklearn.ensemble import RandomForestClassifier\n",
    "from xgboost import XGBClassifier\n",
    "from sklearn.model_selection import train_test_split\n",
    "from sklearn.preprocessing import MinMaxScaler\n",
    "from sklearn.metrics import classification_report, confusion_matrix\n",
    "%matplotlib inline"
   ]
  },
  {
   "cell_type": "code",
   "execution_count": 6,
   "metadata": {},
   "outputs": [],
   "source": [
    "#import data\n",
    "donor_data = pd.read_csv('Donor Raw Data_ML with Python.csv')\n",
    "prospective_donors = pd.read_csv('Prospective Donor_ML with Python.csv')"
   ]
  },
  {
   "cell_type": "code",
   "execution_count": 4,
   "metadata": {},
   "outputs": [
    {
     "data": {
      "text/plain": [
       "<matplotlib.axes._subplots.AxesSubplot at 0x1a0accd6f88>"
      ]
     },
     "execution_count": 4,
     "metadata": {},
     "output_type": "execute_result"
    },
    {
     "data": {
      "image/png": "[encoded data removed]",
      "text/plain": [
       "<Figure size 432x288 with 1 Axes>"
      ]
     },
     "metadata": {
      "needs_background": "light"
     },
     "output_type": "display_data"
    }
   ],
   "source": [
    "figsize = (30,10)\n",
    "sns.heatmap(donor_data.isnull(),yticklabels=False,cbar=False,cmap='viridis')\n",
    "#Shows the missing data, columns that have missing data include Target_D, Donor_Age, Income group, wealth_rating, and months since last response "
   ]
  },
  {
   "cell_type": "code",
   "execution_count": 5,
   "metadata": {},
   "outputs": [
    {
     "data": {
      "text/html": [
       "<div>\n",
       "<style scoped>\n",
       "    .dataframe tbody tr th:only-of-type {\n",
       "        vertical-align: middle;\n",
       "    }\n",
       "\n",
       "    .dataframe tbody tr th {\n",
       "        vertical-align: top;\n",
       "    }\n",
       "\n",
       "    .dataframe thead th {\n",
       "        text-align: right;\n",
       "    }\n",
       "</style>\n",
       "<table border=\"1\" class=\"dataframe\">\n",
       "  <thead>\n",
       "    <tr style=\"text-align: right;\">\n",
       "      <th></th>\n",
       "      <th>TARGET_B</th>\n",
       "      <th>TARGET_D</th>\n",
       "      <th>CONTROL_NUMBER</th>\n",
       "      <th>MONTHS_SINCE_ORIGIN</th>\n",
       "      <th>DONOR_AGE</th>\n",
       "      <th>IN_HOUSE</th>\n",
       "      <th>INCOME_GROUP</th>\n",
       "      <th>PUBLISHED_PHONE</th>\n",
       "      <th>MOR_HIT_RATE</th>\n",
       "      <th>WEALTH_RATING</th>\n",
       "      <th>...</th>\n",
       "      <th>LIFETIME_GIFT_RANGE</th>\n",
       "      <th>LIFETIME_MAX_GIFT_AMT</th>\n",
       "      <th>LIFETIME_MIN_GIFT_AMT</th>\n",
       "      <th>LAST_GIFT_AMT</th>\n",
       "      <th>CARD_PROM_12</th>\n",
       "      <th>NUMBER_PROM_12</th>\n",
       "      <th>MONTHS_SINCE_LAST_GIFT</th>\n",
       "      <th>MONTHS_SINCE_FIRST_GIFT</th>\n",
       "      <th>FILE_AVG_GIFT</th>\n",
       "      <th>FILE_CARD_GIFT</th>\n",
       "    </tr>\n",
       "  </thead>\n",
       "  <tbody>\n",
       "    <tr>\n",
       "      <td>count</td>\n",
       "      <td>19372.000000</td>\n",
       "      <td>4843.000000</td>\n",
       "      <td>19372.000000</td>\n",
       "      <td>19372.000000</td>\n",
       "      <td>14577.000000</td>\n",
       "      <td>19372.000000</td>\n",
       "      <td>14980.000000</td>\n",
       "      <td>19372.000000</td>\n",
       "      <td>19372.000000</td>\n",
       "      <td>10562.000000</td>\n",
       "      <td>...</td>\n",
       "      <td>19372.000000</td>\n",
       "      <td>19372.000000</td>\n",
       "      <td>19372.000000</td>\n",
       "      <td>19372.000000</td>\n",
       "      <td>19372.000000</td>\n",
       "      <td>19372.000000</td>\n",
       "      <td>19372.000000</td>\n",
       "      <td>19372.000000</td>\n",
       "      <td>19372.000000</td>\n",
       "      <td>19372.000000</td>\n",
       "    </tr>\n",
       "    <tr>\n",
       "      <td>mean</td>\n",
       "      <td>0.250000</td>\n",
       "      <td>15.624344</td>\n",
       "      <td>96546.225377</td>\n",
       "      <td>73.409973</td>\n",
       "      <td>58.919051</td>\n",
       "      <td>0.073198</td>\n",
       "      <td>3.907543</td>\n",
       "      <td>0.497729</td>\n",
       "      <td>3.361656</td>\n",
       "      <td>5.005397</td>\n",
       "      <td>...</td>\n",
       "      <td>11.587876</td>\n",
       "      <td>19.208808</td>\n",
       "      <td>7.620932</td>\n",
       "      <td>16.584199</td>\n",
       "      <td>5.367128</td>\n",
       "      <td>12.901869</td>\n",
       "      <td>18.191152</td>\n",
       "      <td>69.482088</td>\n",
       "      <td>12.858338</td>\n",
       "      <td>5.273591</td>\n",
       "    </tr>\n",
       "    <tr>\n",
       "      <td>std</td>\n",
       "      <td>0.433024</td>\n",
       "      <td>12.445137</td>\n",
       "      <td>55830.643871</td>\n",
       "      <td>41.255574</td>\n",
       "      <td>16.669382</td>\n",
       "      <td>0.260469</td>\n",
       "      <td>1.864796</td>\n",
       "      <td>0.500008</td>\n",
       "      <td>9.503481</td>\n",
       "      <td>2.815386</td>\n",
       "      <td>...</td>\n",
       "      <td>15.116893</td>\n",
       "      <td>16.101128</td>\n",
       "      <td>7.959786</td>\n",
       "      <td>11.977558</td>\n",
       "      <td>1.264205</td>\n",
       "      <td>4.642072</td>\n",
       "      <td>4.033065</td>\n",
       "      <td>37.568169</td>\n",
       "      <td>8.787758</td>\n",
       "      <td>4.607063</td>\n",
       "    </tr>\n",
       "    <tr>\n",
       "      <td>min</td>\n",
       "      <td>0.000000</td>\n",
       "      <td>1.000000</td>\n",
       "      <td>5.000000</td>\n",
       "      <td>5.000000</td>\n",
       "      <td>0.000000</td>\n",
       "      <td>0.000000</td>\n",
       "      <td>1.000000</td>\n",
       "      <td>0.000000</td>\n",
       "      <td>0.000000</td>\n",
       "      <td>0.000000</td>\n",
       "      <td>...</td>\n",
       "      <td>0.000000</td>\n",
       "      <td>5.000000</td>\n",
       "      <td>0.000000</td>\n",
       "      <td>0.000000</td>\n",
       "      <td>0.000000</td>\n",
       "      <td>2.000000</td>\n",
       "      <td>4.000000</td>\n",
       "      <td>15.000000</td>\n",
       "      <td>1.360000</td>\n",
       "      <td>0.000000</td>\n",
       "    </tr>\n",
       "    <tr>\n",
       "      <td>25%</td>\n",
       "      <td>0.000000</td>\n",
       "      <td>10.000000</td>\n",
       "      <td>48289.000000</td>\n",
       "      <td>29.000000</td>\n",
       "      <td>47.000000</td>\n",
       "      <td>0.000000</td>\n",
       "      <td>2.000000</td>\n",
       "      <td>0.000000</td>\n",
       "      <td>0.000000</td>\n",
       "      <td>3.000000</td>\n",
       "      <td>...</td>\n",
       "      <td>5.000000</td>\n",
       "      <td>12.000000</td>\n",
       "      <td>3.000000</td>\n",
       "      <td>10.000000</td>\n",
       "      <td>5.000000</td>\n",
       "      <td>11.000000</td>\n",
       "      <td>16.000000</td>\n",
       "      <td>33.000000</td>\n",
       "      <td>8.000000</td>\n",
       "      <td>2.000000</td>\n",
       "    </tr>\n",
       "    <tr>\n",
       "      <td>50%</td>\n",
       "      <td>0.000000</td>\n",
       "      <td>13.000000</td>\n",
       "      <td>96937.000000</td>\n",
       "      <td>65.000000</td>\n",
       "      <td>60.000000</td>\n",
       "      <td>0.000000</td>\n",
       "      <td>4.000000</td>\n",
       "      <td>0.000000</td>\n",
       "      <td>0.000000</td>\n",
       "      <td>5.000000</td>\n",
       "      <td>...</td>\n",
       "      <td>10.000000</td>\n",
       "      <td>16.000000</td>\n",
       "      <td>5.000000</td>\n",
       "      <td>15.000000</td>\n",
       "      <td>6.000000</td>\n",
       "      <td>12.000000</td>\n",
       "      <td>18.000000</td>\n",
       "      <td>65.000000</td>\n",
       "      <td>11.200000</td>\n",
       "      <td>4.000000</td>\n",
       "    </tr>\n",
       "    <tr>\n",
       "      <td>75%</td>\n",
       "      <td>0.250000</td>\n",
       "      <td>20.000000</td>\n",
       "      <td>145429.500000</td>\n",
       "      <td>113.000000</td>\n",
       "      <td>73.000000</td>\n",
       "      <td>0.000000</td>\n",
       "      <td>5.000000</td>\n",
       "      <td>1.000000</td>\n",
       "      <td>3.000000</td>\n",
       "      <td>7.000000</td>\n",
       "      <td>...</td>\n",
       "      <td>15.000000</td>\n",
       "      <td>21.000000</td>\n",
       "      <td>10.000000</td>\n",
       "      <td>20.000000</td>\n",
       "      <td>6.000000</td>\n",
       "      <td>13.000000</td>\n",
       "      <td>20.000000</td>\n",
       "      <td>105.000000</td>\n",
       "      <td>15.000000</td>\n",
       "      <td>8.000000</td>\n",
       "    </tr>\n",
       "    <tr>\n",
       "      <td>max</td>\n",
       "      <td>1.000000</td>\n",
       "      <td>200.000000</td>\n",
       "      <td>191779.000000</td>\n",
       "      <td>137.000000</td>\n",
       "      <td>87.000000</td>\n",
       "      <td>1.000000</td>\n",
       "      <td>7.000000</td>\n",
       "      <td>1.000000</td>\n",
       "      <td>241.000000</td>\n",
       "      <td>9.000000</td>\n",
       "      <td>...</td>\n",
       "      <td>997.000000</td>\n",
       "      <td>1000.000000</td>\n",
       "      <td>450.000000</td>\n",
       "      <td>450.000000</td>\n",
       "      <td>17.000000</td>\n",
       "      <td>64.000000</td>\n",
       "      <td>27.000000</td>\n",
       "      <td>260.000000</td>\n",
       "      <td>450.000000</td>\n",
       "      <td>41.000000</td>\n",
       "    </tr>\n",
       "  </tbody>\n",
       "</table>\n",
       "<p>8 rows × 43 columns</p>\n",
       "</div>"
      ],
      "text/plain": [
       "           TARGET_B     TARGET_D  CONTROL_NUMBER  MONTHS_SINCE_ORIGIN  \\\n",
       "count  19372.000000  4843.000000    19372.000000         19372.000000   \n",
       "mean       0.250000    15.624344    96546.225377            73.409973   \n",
       "std        0.433024    12.445137    55830.643871            41.255574   \n",
       "min        0.000000     1.000000        5.000000             5.000000   \n",
       "25%        0.000000    10.000000    48289.000000            29.000000   \n",
       "50%        0.000000    13.000000    96937.000000            65.000000   \n",
       "75%        0.250000    20.000000   145429.500000           113.000000   \n",
       "max        1.000000   200.000000   191779.000000           137.000000   \n",
       "\n",
       "          DONOR_AGE      IN_HOUSE  INCOME_GROUP  PUBLISHED_PHONE  \\\n",
       "count  14577.000000  19372.000000  14980.000000     19372.000000   \n",
       "mean      58.919051      0.073198      3.907543         0.497729   \n",
       "std       16.669382      0.260469      1.864796         0.500008   \n",
       "min        0.000000      0.000000      1.000000         0.000000   \n",
       "25%       47.000000      0.000000      2.000000         0.000000   \n",
       "50%       60.000000      0.000000      4.000000         0.000000   \n",
       "75%       73.000000      0.000000      5.000000         1.000000   \n",
       "max       87.000000      1.000000      7.000000         1.000000   \n",
       "\n",
       "       MOR_HIT_RATE  WEALTH_RATING  ...  LIFETIME_GIFT_RANGE  \\\n",
       "count  19372.000000   10562.000000  ...         19372.000000   \n",
       "mean       3.361656       5.005397  ...            11.587876   \n",
       "std        9.503481       2.815386  ...            15.116893   \n",
       "min        0.000000       0.000000  ...             0.000000   \n",
       "25%        0.000000       3.000000  ...             5.000000   \n",
       "50%        0.000000       5.000000  ...            10.000000   \n",
       "75%        3.000000       7.000000  ...            15.000000   \n",
       "max      241.000000       9.000000  ...           997.000000   \n",
       "\n",
       "       LIFETIME_MAX_GIFT_AMT  LIFETIME_MIN_GIFT_AMT  LAST_GIFT_AMT  \\\n",
       "count           19372.000000           19372.000000   19372.000000   \n",
       "mean               19.208808               7.620932      16.584199   \n",
       "std                16.101128               7.959786      11.977558   \n",
       "min                 5.000000               0.000000       0.000000   \n",
       "25%                12.000000               3.000000      10.000000   \n",
       "50%                16.000000               5.000000      15.000000   \n",
       "75%                21.000000              10.000000      20.000000   \n",
       "max              1000.000000             450.000000     450.000000   \n",
       "\n",
       "       CARD_PROM_12  NUMBER_PROM_12  MONTHS_SINCE_LAST_GIFT  \\\n",
       "count  19372.000000    19372.000000            19372.000000   \n",
       "mean       5.367128       12.901869               18.191152   \n",
       "std        1.264205        4.642072                4.033065   \n",
       "min        0.000000        2.000000                4.000000   \n",
       "25%        5.000000       11.000000               16.000000   \n",
       "50%        6.000000       12.000000               18.000000   \n",
       "75%        6.000000       13.000000               20.000000   \n",
       "max       17.000000       64.000000               27.000000   \n",
       "\n",
       "       MONTHS_SINCE_FIRST_GIFT  FILE_AVG_GIFT  FILE_CARD_GIFT  \n",
       "count             19372.000000   19372.000000    19372.000000  \n",
       "mean                 69.482088      12.858338        5.273591  \n",
       "std                  37.568169       8.787758        4.607063  \n",
       "min                  15.000000       1.360000        0.000000  \n",
       "25%                  33.000000       8.000000        2.000000  \n",
       "50%                  65.000000      11.200000        4.000000  \n",
       "75%                 105.000000      15.000000        8.000000  \n",
       "max                 260.000000     450.000000       41.000000  \n",
       "\n",
       "[8 rows x 43 columns]"
      ]
     },
     "execution_count": 5,
     "metadata": {},
     "output_type": "execute_result"
    }
   ],
   "source": [
    "donor_data.describe()"
   ]
  },
  {
   "cell_type": "code",
   "execution_count": 7,
   "metadata": {},
   "outputs": [
    {
     "name": "stderr",
     "output_type": "stream",
     "text": [
      "C:\\Users\\user\\Anaconda3\\lib\\site-packages\\pandas\\core\\generic.py:6287: SettingWithCopyWarning: \n",
      "A value is trying to be set on a copy of a slice from a DataFrame\n",
      "\n",
      "See the caveats in the documentation: http://pandas.pydata.org/pandas-docs/stable/user_guide/indexing.html#returning-a-view-versus-a-copy\n",
      "  self._update_inplace(new_data)\n",
      "C:\\Users\\user\\Anaconda3\\lib\\site-packages\\pandas\\core\\frame.py:4102: SettingWithCopyWarning: \n",
      "A value is trying to be set on a copy of a slice from a DataFrame\n",
      "\n",
      "See the caveats in the documentation: http://pandas.pydata.org/pandas-docs/stable/user_guide/indexing.html#returning-a-view-versus-a-copy\n",
      "  errors=errors,\n",
      "C:\\Users\\user\\Anaconda3\\lib\\site-packages\\ipykernel_launcher.py:8: SettingWithCopyWarning: \n",
      "A value is trying to be set on a copy of a slice from a DataFrame\n",
      "\n",
      "See the caveats in the documentation: http://pandas.pydata.org/pandas-docs/stable/user_guide/indexing.html#returning-a-view-versus-a-copy\n",
      "  \n"
     ]
    }
   ],
   "source": [
    "#data cleaning\n",
    "donor_data_clean = donor_data[donor_data['DONOR_AGE']!=0] #A value of zero for age is not practical\n",
    "donor_data_clean.drop('DONOR_AGE', axis = 1).fillna(donor_data_clean['DONOR_AGE'].mean(), inplace = True)\n",
    "donor_data_clean['INCOME_GROUP'].fillna(int(donor_data_clean['INCOME_GROUP'].mode()), inplace = True)\n",
    "donor_data_clean['WEALTH_RATING'].fillna(donor_data_clean['WEALTH_RATING'].median(), inplace = True)\n",
    "donor_data_clean.drop('TARGET_D', axis = 1, inplace = True)\n",
    "donor_data_clean.drop('DONOR_GENDER', axis = 1, inplace = True)\n",
    "donor_data_clean.dropna(inplace = True)"
   ]
  },
  {
   "cell_type": "code",
   "execution_count": 8,
   "metadata": {},
   "outputs": [
    {
     "data": {
      "text/plain": [
       "<matplotlib.axes._subplots.AxesSubplot at 0x1a0adc22148>"
      ]
     },
     "execution_count": 8,
     "metadata": {},
     "output_type": "execute_result"
    },
    {
     "data": {
      "image/png": "[encoded data removed]",
      "text/plain": [
       "<Figure size 432x288 with 1 Axes>"
      ]
     },
     "metadata": {
      "needs_background": "light"
     },
     "output_type": "display_data"
    }
   ],
   "source": [
    "figsize = (30,10)\n",
    "sns.heatmap(donor_data_clean.isnull(),yticklabels=False,cbar=False,cmap='viridis')\n",
    "#Shows the missing data, columns that have missing data include Target_D, Donor_Age, Income group, wealth_rating, and months since last response "
   ]
  },
  {
   "cell_type": "code",
   "execution_count": 8,
   "metadata": {},
   "outputs": [],
   "source": [
    "#dummy variables and index\n",
    "donor_data_clean = pd.get_dummies(donor_data_clean)\n",
    "donor_data_clean = donor_data_clean.set_index('CONTROL_NUMBER')\n"
   ]
  },
  {
   "cell_type": "markdown",
   "metadata": {},
   "source": [
    "##Base Line Prediction"
   ]
  },
  {
   "cell_type": "code",
   "execution_count": 9,
   "metadata": {},
   "outputs": [
    {
     "name": "stderr",
     "output_type": "stream",
     "text": [
      "C:\\Users\\user\\Anaconda3\\lib\\site-packages\\sklearn\\linear_model\\logistic.py:432: FutureWarning: Default solver will be changed to 'lbfgs' in 0.22. Specify a solver to silence this warning.\n",
      "  FutureWarning)\n"
     ]
    },
    {
     "name": "stdout",
     "output_type": "stream",
     "text": [
      "              precision    recall  f1-score   support\n",
      "\n",
      "           0       0.74      0.99      0.85      3198\n",
      "           1       0.50      0.02      0.03      1118\n",
      "\n",
      "    accuracy                           0.74      4316\n",
      "   macro avg       0.62      0.51      0.44      4316\n",
      "weighted avg       0.68      0.74      0.64      4316\n",
      "\n",
      "[[3178   20]\n",
      " [1098   20]]\n"
     ]
    }
   ],
   "source": [
    "scale_and_predict(donor_data_clean, LogisticRegression()) #logistic regression on raw dataset"
   ]
  },
  {
   "cell_type": "markdown",
   "metadata": {},
   "source": [
    "#Strong negative bias noticed"
   ]
  },
  {
   "cell_type": "code",
   "execution_count": 10,
   "metadata": {},
   "outputs": [],
   "source": [
    "def scale_and_predict(donor_data_clean, model):\n",
    "    \"\"\"This function performs scaling on a dataset and returns the results of training\n",
    "    and prediction on the data using a specified model\n",
    "    \"\"\"\n",
    "    X_train, X_test, y_train, y_test = train_test_split(donor_data_clean.drop('TARGET_B', axis = 1).values, donor_data_clean['TARGET_B'].values, test_size=0.3, random_state=42)\n",
    "    scaler = MinMaxScaler()\n",
    "    scaler.fit(X_train)\n",
    "    X_train = scaler.transform(X_train)\n",
    "    X_test = scaler.transform(X_test)\n",
    "    logmodel = model\n",
    "    logmodel.fit(X_train,y_train)\n",
    "    predictions = logmodel.predict(X_test)\n",
    "    print(classification_report(y_test,predictions))\n",
    "    print(confusion_matrix(y_test, predictions))"
   ]
  },
  {
   "cell_type": "code",
   "execution_count": 11,
   "metadata": {},
   "outputs": [],
   "source": [
    "#Try to undersample\n",
    "def under_sample(donor_data_clean):\n",
    "    \"\"\"This function undersamples data by randomly picking an equal number of \n",
    "    the majority class so as to represent it proportionally with the minority class\"\"\"\n",
    "    donated = donor_data_clean[donor_data_clean['TARGET_B']==1]\n",
    "    nonDonate = donor_data_clean[donor_data_clean['TARGET_B']==0]\n",
    "    donor_count = donor_data_clean['TARGET_B'].value_counts()[1]\n",
    "    randomSelection = nonDonate.sample(donor_count)\n",
    "    underSampling = pd.concat([donated, randomSelection])\n",
    "    return underSampling"
   ]
  },
  {
   "cell_type": "code",
   "execution_count": 12,
   "metadata": {},
   "outputs": [],
   "source": [
    "def undersample_train(donor_data_clean, model):\n",
    "    \"\"\"Undersampling the whole dataset sometimes causes information leakage, so this function\n",
    "    undersamples only the training data\"\"\"\n",
    "    X_new_train, X_new_test, y_new_train, y_new_test = train_test_split(donor_data_clean, donor_data_clean['TARGET_B'], test_size=0.2, random_state=42)\n",
    "    X_new_train = under_sample(X_new_train)\n",
    "    y_new_train = X_new_train['TARGET_B']\n",
    "    X_new_train = X_new_train.drop('TARGET_B', axis = 1).values\n",
    "    X_new_test = X_new_test.drop('TARGET_B', axis = 1).values\n",
    "\n",
    "    scaler = MinMaxScaler()\n",
    "    scaler.fit(X_new_train)\n",
    "    X_new_train = scaler.transform(X_new_train)\n",
    "    X_new_test = scaler.transform(X_new_test)\n",
    "    log_new_model = model\n",
    "    log_new_model.fit(X_new_train,y_new_train)\n",
    "    predictions = log_new_model.predict(X_new_test)\n",
    "    print(classification_report(y_new_test,predictions))\n",
    "    print(confusion_matrix(y_new_test, predictions))"
   ]
  },
  {
   "cell_type": "code",
   "execution_count": 13,
   "metadata": {},
   "outputs": [],
   "source": [
    "#Try out feature selection for various features\n",
    "def dataset_split(df):\n",
    "    \"\"\"This function splits and scales a given dataset into X and y components\"\"\"\n",
    "    X = df.drop('TARGET_B', axis = 1).values\n",
    "    y = df['TARGET_B'].values\n",
    "    scaler = MinMaxScaler()\n",
    "    scaler.fit(X)\n",
    "    X = scaler.transform(X)\n",
    "    return X, y"
   ]
  },
  {
   "cell_type": "code",
   "execution_count": 14,
   "metadata": {},
   "outputs": [],
   "source": [
    "def select_features(donor_data_clean, importance, min_value, max_value):\n",
    "    \"\"\"This function uses a given model to calculate the most important features in a dataset for selection \n",
    "    the minimum and maximum value specify the range of features to be selected by importance rank\"\"\"\n",
    "    log_features = []\n",
    "    for i in range(len(importance)):\n",
    "        if importance[i]>=min_value or importance[i]<=max_value:\n",
    "            log_features.append(list(donor_data_clean.drop('TARGET_B', axis = 1).columns)[i])\n",
    "    log_features.append('TARGET_B')\n",
    "    donor_data_clean_log = donor_data_clean[log_features]\n",
    "    return donor_data_clean_log"
   ]
  },
  {
   "cell_type": "code",
   "execution_count": null,
   "metadata": {},
   "outputs": [],
   "source": []
  },
  {
   "cell_type": "code",
   "execution_count": null,
   "metadata": {},
   "outputs": [],
   "source": [
    "\"\"\"For the section below, feature selection is carried out on different classifier algorithms. \n",
    "Each model is then trained in different modes: 1. Training on the raw dataset 2. Training on dataset with full undersampling. 3.Training on raw dataset with feature selection 4. Training on dataset with undersampling only on training data 5.Training on dataset with both undersampling and feature selection\"\"\""
   ]
  },
  {
   "cell_type": "code",
   "execution_count": null,
   "metadata": {},
   "outputs": [],
   "source": [
    "\"\"\"Logistic Regression\"\"\""
   ]
  },
  {
   "cell_type": "code",
   "execution_count": 152,
   "metadata": {},
   "outputs": [
    {
     "name": "stderr",
     "output_type": "stream",
     "text": [
      "C:\\Users\\user\\Anaconda3\\lib\\site-packages\\sklearn\\linear_model\\logistic.py:432: FutureWarning: Default solver will be changed to 'lbfgs' in 0.22. Specify a solver to silence this warning.\n",
      "  FutureWarning)\n"
     ]
    },
    {
     "data": {
      "image/png": "[encoded data removed]",
      "text/plain": [
       "<Figure size 432x288 with 1 Axes>"
      ]
     },
     "metadata": {
      "needs_background": "light"
     },
     "output_type": "display_data"
    }
   ],
   "source": [
    "\n",
    "X, y = dataset_split(donor_data_clean)\n",
    "model = LogisticRegression()\n",
    "model.fit(X,y)\n",
    "importance = model.coef_[0]\n",
    "log_reg_importance = []\n",
    "for i,v in enumerate(importance):\n",
    "   # print('Feature: %0d, Score: %.5f' % (i,v))\n",
    "    log_reg_importance.append(v)\n",
    "pyplot.bar([x for x in range(len(importance))], importance)\n",
    "pyplot.show()"
   ]
  },
  {
   "cell_type": "code",
   "execution_count": 153,
   "metadata": {},
   "outputs": [
    {
     "name": "stdout",
     "output_type": "stream",
     "text": [
      "              precision    recall  f1-score   support\n",
      "\n",
      "           0       0.56      0.61      0.59      1071\n",
      "           1       0.59      0.54      0.57      1120\n",
      "\n",
      "    accuracy                           0.58      2191\n",
      "   macro avg       0.58      0.58      0.58      2191\n",
      "weighted avg       0.58      0.58      0.58      2191\n",
      "\n",
      "[[656 415]\n",
      " [513 607]]\n"
     ]
    },
    {
     "name": "stderr",
     "output_type": "stream",
     "text": [
      "C:\\Users\\user\\Anaconda3\\lib\\site-packages\\sklearn\\linear_model\\logistic.py:432: FutureWarning: Default solver will be changed to 'lbfgs' in 0.22. Specify a solver to silence this warning.\n",
      "  FutureWarning)\n"
     ]
    }
   ],
   "source": [
    "donor_data_undersampled = under_sample(donor_data_clean)\n",
    "scale_and_predict(donor_data_undersampled, LogisticRegression())  #log reg donor data undersampled"
   ]
  },
  {
   "cell_type": "code",
   "execution_count": 154,
   "metadata": {},
   "outputs": [
    {
     "name": "stderr",
     "output_type": "stream",
     "text": [
      "C:\\Users\\user\\Anaconda3\\lib\\site-packages\\sklearn\\linear_model\\logistic.py:432: FutureWarning: Default solver will be changed to 'lbfgs' in 0.22. Specify a solver to silence this warning.\n",
      "  FutureWarning)\n"
     ]
    },
    {
     "name": "stdout",
     "output_type": "stream",
     "text": [
      "              precision    recall  f1-score   support\n",
      "\n",
      "           0       0.74      0.99      0.85      3198\n",
      "           1       0.50      0.02      0.03      1118\n",
      "\n",
      "    accuracy                           0.74      4316\n",
      "   macro avg       0.62      0.51      0.44      4316\n",
      "weighted avg       0.68      0.74      0.64      4316\n",
      "\n",
      "[[3178   20]\n",
      " [1098   20]]\n"
     ]
    }
   ],
   "source": [
    "donor_data_clean_sel_features = select_features(donor_data_clean, log_reg_importance, -0.2, 0.2)\n",
    "scale_and_predict(donor_data_clean_sel_features, LogisticRegression()) #log reg selected features raw dataset"
   ]
  },
  {
   "cell_type": "code",
   "execution_count": 155,
   "metadata": {},
   "outputs": [
    {
     "name": "stdout",
     "output_type": "stream",
     "text": [
      "              precision    recall  f1-score   support\n",
      "\n",
      "           0       0.56      0.61      0.59      1071\n",
      "           1       0.59      0.54      0.57      1120\n",
      "\n",
      "    accuracy                           0.58      2191\n",
      "   macro avg       0.58      0.58      0.58      2191\n",
      "weighted avg       0.58      0.58      0.58      2191\n",
      "\n",
      "[[656 415]\n",
      " [513 607]]\n"
     ]
    },
    {
     "name": "stderr",
     "output_type": "stream",
     "text": [
      "C:\\Users\\user\\Anaconda3\\lib\\site-packages\\sklearn\\linear_model\\logistic.py:432: FutureWarning: Default solver will be changed to 'lbfgs' in 0.22. Specify a solver to silence this warning.\n",
      "  FutureWarning)\n"
     ]
    }
   ],
   "source": [
    "donor_data_clean_combined = select_features(donor_data_undersampled,log_reg_importance, -0.2, 0.2)\n",
    "scale_and_predict(donor_data_clean_combined, LogisticRegression()) #logreg selected features and undersampled"
   ]
  },
  {
   "cell_type": "code",
   "execution_count": 156,
   "metadata": {},
   "outputs": [
    {
     "name": "stdout",
     "output_type": "stream",
     "text": [
      "              precision    recall  f1-score   support\n",
      "\n",
      "           0       0.80      0.60      0.69      2155\n",
      "           1       0.32      0.56      0.41       722\n",
      "\n",
      "    accuracy                           0.59      2877\n",
      "   macro avg       0.56      0.58      0.55      2877\n",
      "weighted avg       0.68      0.59      0.62      2877\n",
      "\n",
      "[[1296  859]\n",
      " [ 319  403]]\n"
     ]
    },
    {
     "name": "stderr",
     "output_type": "stream",
     "text": [
      "C:\\Users\\user\\Anaconda3\\lib\\site-packages\\sklearn\\linear_model\\logistic.py:432: FutureWarning: Default solver will be changed to 'lbfgs' in 0.22. Specify a solver to silence this warning.\n",
      "  FutureWarning)\n"
     ]
    }
   ],
   "source": [
    "undersample_train(donor_data_clean, LogisticRegression()) #undersample only training data raw data"
   ]
  },
  {
   "cell_type": "code",
   "execution_count": 157,
   "metadata": {},
   "outputs": [
    {
     "name": "stdout",
     "output_type": "stream",
     "text": [
      "              precision    recall  f1-score   support\n",
      "\n",
      "           0       0.80      0.61      0.69      2155\n",
      "           1       0.32      0.54      0.40       722\n",
      "\n",
      "    accuracy                           0.59      2877\n",
      "   macro avg       0.56      0.57      0.54      2877\n",
      "weighted avg       0.68      0.59      0.62      2877\n",
      "\n",
      "[[1304  851]\n",
      " [ 329  393]]\n"
     ]
    },
    {
     "name": "stderr",
     "output_type": "stream",
     "text": [
      "C:\\Users\\user\\Anaconda3\\lib\\site-packages\\sklearn\\linear_model\\logistic.py:432: FutureWarning: Default solver will be changed to 'lbfgs' in 0.22. Specify a solver to silence this warning.\n",
      "  FutureWarning)\n"
     ]
    }
   ],
   "source": [
    "undersample_train(donor_data_clean_sel_features, LogisticRegression()) #undersample on only trained data and selected features"
   ]
  },
  {
   "cell_type": "code",
   "execution_count": null,
   "metadata": {},
   "outputs": [],
   "source": []
  },
  {
   "cell_type": "code",
   "execution_count": null,
   "metadata": {},
   "outputs": [],
   "source": []
  },
  {
   "cell_type": "code",
   "execution_count": null,
   "metadata": {},
   "outputs": [],
   "source": [
    "\"\"\"Decision Tree\"\"\""
   ]
  },
  {
   "cell_type": "code",
   "execution_count": 158,
   "metadata": {},
   "outputs": [
    {
     "data": {
      "image/png": "[encoded data removed]",
      "text/plain": [
       "<Figure size 432x288 with 1 Axes>"
      ]
     },
     "metadata": {
      "needs_background": "light"
     },
     "output_type": "display_data"
    }
   ],
   "source": [
    "X, y = dataset_split(donor_data_clean)\n",
    "model = DecisionTreeClassifier()\n",
    "model.fit(X,y)\n",
    "importance = model.feature_importances_\n",
    "dec_tree_importance = []\n",
    "for i,v in enumerate(importance):\n",
    "    #print('Feature: %0d, Score: %.5f' % (i,v))\n",
    "    dec_tree_importance.append(v)\n",
    "pyplot.bar([x for x in range(len(importance))], importance)\n",
    "pyplot.show()"
   ]
  },
  {
   "cell_type": "code",
   "execution_count": 159,
   "metadata": {},
   "outputs": [
    {
     "name": "stdout",
     "output_type": "stream",
     "text": [
      "              precision    recall  f1-score   support\n",
      "\n",
      "           0       0.75      0.75      0.75      3198\n",
      "           1       0.29      0.30      0.30      1118\n",
      "\n",
      "    accuracy                           0.63      4316\n",
      "   macro avg       0.52      0.52      0.52      4316\n",
      "weighted avg       0.63      0.63      0.63      4316\n",
      "\n",
      "[[2384  814]\n",
      " [ 783  335]]\n"
     ]
    }
   ],
   "source": [
    "scale_and_predict(donor_data_clean, DecisionTreeClassifier()) #raw dataset decision tree"
   ]
  },
  {
   "cell_type": "code",
   "execution_count": 160,
   "metadata": {},
   "outputs": [
    {
     "name": "stdout",
     "output_type": "stream",
     "text": [
      "              precision    recall  f1-score   support\n",
      "\n",
      "           0       0.51      0.52      0.51      1071\n",
      "           1       0.53      0.53      0.53      1120\n",
      "\n",
      "    accuracy                           0.52      2191\n",
      "   macro avg       0.52      0.52      0.52      2191\n",
      "weighted avg       0.52      0.52      0.52      2191\n",
      "\n",
      "[[554 517]\n",
      " [532 588]]\n"
     ]
    }
   ],
   "source": [
    "scale_and_predict(donor_data_undersampled, DecisionTreeClassifier())"
   ]
  },
  {
   "cell_type": "code",
   "execution_count": 161,
   "metadata": {},
   "outputs": [
    {
     "name": "stdout",
     "output_type": "stream",
     "text": [
      "              precision    recall  f1-score   support\n",
      "\n",
      "           0       0.76      0.75      0.75      3198\n",
      "           1       0.30      0.31      0.31      1118\n",
      "\n",
      "    accuracy                           0.64      4316\n",
      "   macro avg       0.53      0.53      0.53      4316\n",
      "weighted avg       0.64      0.64      0.64      4316\n",
      "\n",
      "[[2399  799]\n",
      " [ 772  346]]\n"
     ]
    }
   ],
   "source": [
    "dec_tree_sel_features = select_features(donor_data_clean, dec_tree_importance, 0.01/2, 0.2)\n",
    "scale_and_predict(dec_tree_sel_features, DecisionTreeClassifier())"
   ]
  },
  {
   "cell_type": "code",
   "execution_count": 162,
   "metadata": {},
   "outputs": [
    {
     "name": "stdout",
     "output_type": "stream",
     "text": [
      "              precision    recall  f1-score   support\n",
      "\n",
      "           0       0.50      0.51      0.51      1071\n",
      "           1       0.52      0.51      0.51      1120\n",
      "\n",
      "    accuracy                           0.51      2191\n",
      "   macro avg       0.51      0.51      0.51      2191\n",
      "weighted avg       0.51      0.51      0.51      2191\n",
      "\n",
      "[[551 520]\n",
      " [554 566]]\n"
     ]
    }
   ],
   "source": [
    "dec_tree_combined = select_features(donor_data_undersampled, dec_tree_importance, 0.01/2, 0.2)\n",
    "scale_and_predict(dec_tree_combined, DecisionTreeClassifier())"
   ]
  },
  {
   "cell_type": "code",
   "execution_count": 163,
   "metadata": {},
   "outputs": [
    {
     "name": "stdout",
     "output_type": "stream",
     "text": [
      "              precision    recall  f1-score   support\n",
      "\n",
      "           0       0.76      0.52      0.62      2155\n",
      "           1       0.26      0.51      0.35       722\n",
      "\n",
      "    accuracy                           0.52      2877\n",
      "   macro avg       0.51      0.52      0.48      2877\n",
      "weighted avg       0.64      0.52      0.55      2877\n",
      "\n",
      "[[1122 1033]\n",
      " [ 352  370]]\n"
     ]
    }
   ],
   "source": [
    "undersample_train(donor_data_clean, DecisionTreeClassifier())"
   ]
  },
  {
   "cell_type": "code",
   "execution_count": 164,
   "metadata": {},
   "outputs": [
    {
     "name": "stdout",
     "output_type": "stream",
     "text": [
      "              precision    recall  f1-score   support\n",
      "\n",
      "           0       0.78      0.53      0.63      2155\n",
      "           1       0.28      0.55      0.38       722\n",
      "\n",
      "    accuracy                           0.54      2877\n",
      "   macro avg       0.53      0.54      0.50      2877\n",
      "weighted avg       0.66      0.54      0.57      2877\n",
      "\n",
      "[[1148 1007]\n",
      " [ 322  400]]\n"
     ]
    }
   ],
   "source": [
    "undersample_train(dec_tree_sel_features, DecisionTreeClassifier())"
   ]
  },
  {
   "cell_type": "code",
   "execution_count": null,
   "metadata": {},
   "outputs": [],
   "source": []
  },
  {
   "cell_type": "code",
   "execution_count": null,
   "metadata": {},
   "outputs": [],
   "source": [
    "\"\"\"Random Forest Classifier\"\"\""
   ]
  },
  {
   "cell_type": "code",
   "execution_count": 16,
   "metadata": {},
   "outputs": [
    {
     "name": "stderr",
     "output_type": "stream",
     "text": [
      "C:\\Users\\user\\Anaconda3\\lib\\site-packages\\sklearn\\ensemble\\forest.py:245: FutureWarning: The default value of n_estimators will change from 10 in version 0.20 to 100 in 0.22.\n",
      "  \"10 in version 0.20 to 100 in 0.22.\", FutureWarning)\n"
     ]
    },
    {
     "data": {
      "image/png": "[encoded data removed]",
      "text/plain": [
       "<Figure size 432x288 with 1 Axes>"
      ]
     },
     "metadata": {
      "needs_background": "light"
     },
     "output_type": "display_data"
    }
   ],
   "source": [
    "X, y = dataset_split(donor_data_clean)\n",
    "model = RandomForestClassifier()\n",
    "model.fit(X,y)\n",
    "importance = model.feature_importances_\n",
    "rand_forest_importance = []\n",
    "for i,v in enumerate(importance):\n",
    "    #print('Feature: %0d, Score: %.5f' % (i,v))\n",
    "    rand_forest_importance.append(v)\n",
    "pyplot.bar([x for x in range(len(importance))], importance)\n",
    "pyplot.show()"
   ]
  },
  {
   "cell_type": "code",
   "execution_count": 166,
   "metadata": {},
   "outputs": [
    {
     "name": "stderr",
     "output_type": "stream",
     "text": [
      "C:\\Users\\user\\Anaconda3\\lib\\site-packages\\sklearn\\ensemble\\forest.py:245: FutureWarning: The default value of n_estimators will change from 10 in version 0.20 to 100 in 0.22.\n",
      "  \"10 in version 0.20 to 100 in 0.22.\", FutureWarning)\n"
     ]
    },
    {
     "name": "stdout",
     "output_type": "stream",
     "text": [
      "              precision    recall  f1-score   support\n",
      "\n",
      "           0       0.74      0.95      0.83      3198\n",
      "           1       0.32      0.07      0.11      1118\n",
      "\n",
      "    accuracy                           0.72      4316\n",
      "   macro avg       0.53      0.51      0.47      4316\n",
      "weighted avg       0.64      0.72      0.65      4316\n",
      "\n",
      "[[3035  163]\n",
      " [1040   78]]\n"
     ]
    }
   ],
   "source": [
    "scale_and_predict(donor_data_clean, RandomForestClassifier())"
   ]
  },
  {
   "cell_type": "code",
   "execution_count": 167,
   "metadata": {},
   "outputs": [
    {
     "name": "stdout",
     "output_type": "stream",
     "text": [
      "              precision    recall  f1-score   support\n",
      "\n",
      "           0       0.54      0.68      0.60      1071\n",
      "           1       0.59      0.44      0.50      1120\n",
      "\n",
      "    accuracy                           0.55      2191\n",
      "   macro avg       0.56      0.56      0.55      2191\n",
      "weighted avg       0.56      0.55      0.55      2191\n",
      "\n",
      "[[723 348]\n",
      " [627 493]]\n"
     ]
    },
    {
     "name": "stderr",
     "output_type": "stream",
     "text": [
      "C:\\Users\\user\\Anaconda3\\lib\\site-packages\\sklearn\\ensemble\\forest.py:245: FutureWarning: The default value of n_estimators will change from 10 in version 0.20 to 100 in 0.22.\n",
      "  \"10 in version 0.20 to 100 in 0.22.\", FutureWarning)\n"
     ]
    }
   ],
   "source": [
    "scale_and_predict(donor_data_undersampled, RandomForestClassifier())"
   ]
  },
  {
   "cell_type": "code",
   "execution_count": 168,
   "metadata": {},
   "outputs": [
    {
     "name": "stderr",
     "output_type": "stream",
     "text": [
      "C:\\Users\\user\\Anaconda3\\lib\\site-packages\\sklearn\\ensemble\\forest.py:245: FutureWarning: The default value of n_estimators will change from 10 in version 0.20 to 100 in 0.22.\n",
      "  \"10 in version 0.20 to 100 in 0.22.\", FutureWarning)\n"
     ]
    },
    {
     "name": "stdout",
     "output_type": "stream",
     "text": [
      "              precision    recall  f1-score   support\n",
      "\n",
      "           0       0.75      0.95      0.84      3198\n",
      "           1       0.35      0.08      0.12      1118\n",
      "\n",
      "    accuracy                           0.72      4316\n",
      "   macro avg       0.55      0.51      0.48      4316\n",
      "weighted avg       0.64      0.72      0.65      4316\n",
      "\n",
      "[[3038  160]\n",
      " [1033   85]]\n"
     ]
    }
   ],
   "source": [
    "rand_forest_sel_features = select_features(donor_data_clean, rand_forest_importance, 0.005, 0.2)\n",
    "scale_and_predict(rand_forest_sel_features, RandomForestClassifier())"
   ]
  },
  {
   "cell_type": "code",
   "execution_count": 169,
   "metadata": {},
   "outputs": [
    {
     "name": "stdout",
     "output_type": "stream",
     "text": [
      "              precision    recall  f1-score   support\n",
      "\n",
      "           0       0.55      0.70      0.62      1071\n",
      "           1       0.61      0.45      0.52      1120\n",
      "\n",
      "    accuracy                           0.57      2191\n",
      "   macro avg       0.58      0.58      0.57      2191\n",
      "weighted avg       0.58      0.57      0.57      2191\n",
      "\n",
      "[[751 320]\n",
      " [612 508]]\n"
     ]
    },
    {
     "name": "stderr",
     "output_type": "stream",
     "text": [
      "C:\\Users\\user\\Anaconda3\\lib\\site-packages\\sklearn\\ensemble\\forest.py:245: FutureWarning: The default value of n_estimators will change from 10 in version 0.20 to 100 in 0.22.\n",
      "  \"10 in version 0.20 to 100 in 0.22.\", FutureWarning)\n"
     ]
    }
   ],
   "source": [
    "rand_forest_combined = select_features(donor_data_undersampled, rand_forest_importance, 0.005, 0.2)\n",
    "scale_and_predict(rand_forest_combined, RandomForestClassifier())"
   ]
  },
  {
   "cell_type": "code",
   "execution_count": 170,
   "metadata": {},
   "outputs": [
    {
     "name": "stderr",
     "output_type": "stream",
     "text": [
      "C:\\Users\\user\\Anaconda3\\lib\\site-packages\\sklearn\\ensemble\\forest.py:245: FutureWarning: The default value of n_estimators will change from 10 in version 0.20 to 100 in 0.22.\n",
      "  \"10 in version 0.20 to 100 in 0.22.\", FutureWarning)\n"
     ]
    },
    {
     "name": "stdout",
     "output_type": "stream",
     "text": [
      "              precision    recall  f1-score   support\n",
      "\n",
      "           0       0.77      0.63      0.69      2155\n",
      "           1       0.29      0.44      0.35       722\n",
      "\n",
      "    accuracy                           0.58      2877\n",
      "   macro avg       0.53      0.54      0.52      2877\n",
      "weighted avg       0.65      0.58      0.61      2877\n",
      "\n",
      "[[1360  795]\n",
      " [ 403  319]]\n"
     ]
    }
   ],
   "source": [
    "undersample_train(donor_data_clean, RandomForestClassifier())"
   ]
  },
  {
   "cell_type": "code",
   "execution_count": 171,
   "metadata": {},
   "outputs": [
    {
     "name": "stderr",
     "output_type": "stream",
     "text": [
      "C:\\Users\\user\\Anaconda3\\lib\\site-packages\\sklearn\\ensemble\\forest.py:245: FutureWarning: The default value of n_estimators will change from 10 in version 0.20 to 100 in 0.22.\n",
      "  \"10 in version 0.20 to 100 in 0.22.\", FutureWarning)\n"
     ]
    },
    {
     "name": "stdout",
     "output_type": "stream",
     "text": [
      "              precision    recall  f1-score   support\n",
      "\n",
      "           0       0.77      0.65      0.71      2155\n",
      "           1       0.29      0.42      0.34       722\n",
      "\n",
      "    accuracy                           0.59      2877\n",
      "   macro avg       0.53      0.53      0.52      2877\n",
      "weighted avg       0.65      0.59      0.61      2877\n",
      "\n",
      "[[1405  750]\n",
      " [ 421  301]]\n"
     ]
    }
   ],
   "source": [
    "undersample_train(rand_forest_sel_features, RandomForestClassifier())"
   ]
  },
  {
   "cell_type": "code",
   "execution_count": null,
   "metadata": {},
   "outputs": [],
   "source": []
  },
  {
   "cell_type": "code",
   "execution_count": null,
   "metadata": {},
   "outputs": [],
   "source": [
    "\"\"\"XGBoost Classifier\"\"\""
   ]
  },
  {
   "cell_type": "code",
   "execution_count": 172,
   "metadata": {},
   "outputs": [
    {
     "data": {
      "image/png": "[encoded data removed]",
      "text/plain": [
       "<Figure size 432x288 with 1 Axes>"
      ]
     },
     "metadata": {
      "needs_background": "light"
     },
     "output_type": "display_data"
    }
   ],
   "source": [
    "X, y = dataset_split(donor_data_clean)\n",
    "model = XGBClassifier()\n",
    "model.fit(X,y)\n",
    "importance = model.feature_importances_\n",
    "XGB_importance = []\n",
    "for i,v in enumerate(importance):\n",
    "    #print('Feature: %0d, Score: %.5f' % (i,v))\n",
    "    XGB_importance.append(v)\n",
    "pyplot.bar([x for x in range(len(importance))], importance)\n",
    "pyplot.show()"
   ]
  },
  {
   "cell_type": "code",
   "execution_count": 173,
   "metadata": {},
   "outputs": [
    {
     "name": "stdout",
     "output_type": "stream",
     "text": [
      "              precision    recall  f1-score   support\n",
      "\n",
      "           0       0.75      0.99      0.85      3198\n",
      "           1       0.53      0.03      0.07      1118\n",
      "\n",
      "    accuracy                           0.74      4316\n",
      "   macro avg       0.64      0.51      0.46      4316\n",
      "weighted avg       0.69      0.74      0.65      4316\n",
      "\n",
      "[[3163   35]\n",
      " [1079   39]]\n"
     ]
    }
   ],
   "source": [
    "scale_and_predict(donor_data_clean, XGBClassifier())"
   ]
  },
  {
   "cell_type": "code",
   "execution_count": 174,
   "metadata": {},
   "outputs": [
    {
     "name": "stdout",
     "output_type": "stream",
     "text": [
      "              precision    recall  f1-score   support\n",
      "\n",
      "           0       0.56      0.62      0.59      1071\n",
      "           1       0.60      0.53      0.56      1120\n",
      "\n",
      "    accuracy                           0.58      2191\n",
      "   macro avg       0.58      0.58      0.58      2191\n",
      "weighted avg       0.58      0.58      0.58      2191\n",
      "\n",
      "[[666 405]\n",
      " [523 597]]\n"
     ]
    }
   ],
   "source": [
    "scale_and_predict(donor_data_undersampled, XGBClassifier())"
   ]
  },
  {
   "cell_type": "code",
   "execution_count": 175,
   "metadata": {},
   "outputs": [
    {
     "name": "stdout",
     "output_type": "stream",
     "text": [
      "              precision    recall  f1-score   support\n",
      "\n",
      "           0       0.75      0.99      0.85      3198\n",
      "           1       0.53      0.03      0.07      1118\n",
      "\n",
      "    accuracy                           0.74      4316\n",
      "   macro avg       0.64      0.51      0.46      4316\n",
      "weighted avg       0.69      0.74      0.65      4316\n",
      "\n",
      "[[3163   35]\n",
      " [1079   39]]\n"
     ]
    }
   ],
   "source": [
    "XGB_features = select_features(donor_data_clean, XGB_importance, 0.01, 0.2)\n",
    "scale_and_predict(XGB_features, XGBClassifier())"
   ]
  },
  {
   "cell_type": "code",
   "execution_count": 176,
   "metadata": {},
   "outputs": [
    {
     "name": "stdout",
     "output_type": "stream",
     "text": [
      "              precision    recall  f1-score   support\n",
      "\n",
      "           0       0.56      0.62      0.59      1071\n",
      "           1       0.60      0.53      0.56      1120\n",
      "\n",
      "    accuracy                           0.58      2191\n",
      "   macro avg       0.58      0.58      0.58      2191\n",
      "weighted avg       0.58      0.58      0.58      2191\n",
      "\n",
      "[[666 405]\n",
      " [523 597]]\n"
     ]
    }
   ],
   "source": [
    "XGB_features_sampled = select_features(donor_data_undersampled, XGB_importance, 0.01, 0.2)\n",
    "scale_and_predict(XGB_features_sampled, XGBClassifier())"
   ]
  },
  {
   "cell_type": "code",
   "execution_count": 177,
   "metadata": {},
   "outputs": [
    {
     "name": "stdout",
     "output_type": "stream",
     "text": [
      "              precision    recall  f1-score   support\n",
      "\n",
      "           0       0.80      0.60      0.69      2155\n",
      "           1       0.32      0.56      0.41       722\n",
      "\n",
      "    accuracy                           0.59      2877\n",
      "   macro avg       0.56      0.58      0.55      2877\n",
      "weighted avg       0.68      0.59      0.62      2877\n",
      "\n",
      "[[1295  860]\n",
      " [ 320  402]]\n"
     ]
    }
   ],
   "source": [
    "undersample_train(donor_data_clean, XGBClassifier())"
   ]
  },
  {
   "cell_type": "code",
   "execution_count": 178,
   "metadata": {},
   "outputs": [
    {
     "name": "stdout",
     "output_type": "stream",
     "text": [
      "              precision    recall  f1-score   support\n",
      "\n",
      "           0       0.79      0.58      0.67      2155\n",
      "           1       0.30      0.55      0.39       722\n",
      "\n",
      "    accuracy                           0.57      2877\n",
      "   macro avg       0.55      0.56      0.53      2877\n",
      "weighted avg       0.67      0.57      0.60      2877\n",
      "\n",
      "[[1257  898]\n",
      " [ 328  394]]\n"
     ]
    }
   ],
   "source": [
    "undersample_train(XGB_features, XGBClassifier())"
   ]
  },
  {
   "cell_type": "code",
   "execution_count": null,
   "metadata": {},
   "outputs": [],
   "source": []
  },
  {
   "cell_type": "code",
   "execution_count": null,
   "metadata": {},
   "outputs": [],
   "source": []
  },
  {
   "cell_type": "code",
   "execution_count": 17,
   "metadata": {},
   "outputs": [
    {
     "data": {
      "text/plain": [
       "'Apply the same cleaning process to the prospective donors dataset'"
      ]
     },
     "execution_count": 17,
     "metadata": {},
     "output_type": "execute_result"
    }
   ],
   "source": [
    "\"\"\"Apply the same cleaning process to the prospective donors dataset\"\"\""
   ]
  },
  {
   "cell_type": "code",
   "execution_count": 181,
   "metadata": {},
   "outputs": [],
   "source": [
    "prospective_donors_clean = prospective_donors[prospective_donors['DONOR_AGE']!=0]\n",
    "prospective_donors_clean['DONOR_AGE'].fillna(prospective_donors_clean['DONOR_AGE'].mean(), inplace = True)\n",
    "prospective_donors_clean['INCOME_GROUP'].fillna(int(prospective_donors_clean['INCOME_GROUP'].mode()), inplace = True)\n",
    "prospective_donors_clean['WEALTH_RATING'].fillna(prospective_donors_clean['WEALTH_RATING'].median(), inplace = True)\n",
    "#prospective_donors_clean.drop('TARGET_D', axis = 1, inplace = True)\n",
    "prospective_donors_clean.dropna(inplace = True)\n",
    "prospective_donors_clean.drop('DONOR_GENDER', axis = 1)\n",
    "prospective_donors_clean = pd.get_dummies(prospective_donors_clean)\n",
    "prospective_donors_clean = prospective_donors_clean.set_index('CONTROL_NUMBER')"
   ]
  },
  {
   "cell_type": "code",
   "execution_count": 182,
   "metadata": {},
   "outputs": [],
   "source": [
    "selected_features = []\n",
    "for i in range(len(XGB_importance)):\n",
    "    if XGB_importance[i]>=0.01 or XGB_importance[i]<=0.2:\n",
    "        selected_features.append(list(donor_data_clean.drop('TARGET_B', axis = 1).columns)[i])\n",
    "#selected_features.remove('DONOR_GENDER_A')\n",
    "X_prospect_test = prospective_donors_clean[selected_features].values\n",
    "X_prospect_train = XGB_features_sampled.drop('TARGET_B', axis = 1).values\n",
    "y_prospect_train = XGB_features_sampled['TARGET_B']\n",
    "scaler = MinMaxScaler()\n",
    "scaler.fit(X_prospect_train)\n",
    "X_prospect_train = scaler.transform(X_prospect_train)\n",
    "scaler.fit(X_prospect_test)\n",
    "X_prospect_test = scaler.transform(X_prospect_test)\n",
    "XGBmodel = XGBClassifier()\n",
    "XGBmodel.fit(X_prospect_train,y_prospect_train)\n",
    "predictions = XGBmodel.predict(X_prospect_test)"
   ]
  },
  {
   "cell_type": "code",
   "execution_count": 183,
   "metadata": {},
   "outputs": [
    {
     "data": {
      "text/plain": [
       "array([1, 0, 1, ..., 1, 0, 1], dtype=int64)"
      ]
     },
     "execution_count": 183,
     "metadata": {},
     "output_type": "execute_result"
    }
   ],
   "source": [
    "get_donors = pd.concat(prospective_donors_clean, predictions)"
   ]
  },
  {
   "cell_type": "code",
   "execution_count": 185,
   "metadata": {},
   "outputs": [
    {
     "data": {
      "text/html": [
       "<div>\n",
       "<style scoped>\n",
       "    .dataframe tbody tr th:only-of-type {\n",
       "        vertical-align: middle;\n",
       "    }\n",
       "\n",
       "    .dataframe tbody tr th {\n",
       "        vertical-align: top;\n",
       "    }\n",
       "\n",
       "    .dataframe thead th {\n",
       "        text-align: right;\n",
       "    }\n",
       "</style>\n",
       "<table border=\"1\" class=\"dataframe\">\n",
       "  <thead>\n",
       "    <tr style=\"text-align: right;\">\n",
       "      <th></th>\n",
       "      <th>TARGET_PRED</th>\n",
       "      <th>MONTHS_SINCE_ORIGIN</th>\n",
       "      <th>DONOR_AGE</th>\n",
       "      <th>IN_HOUSE</th>\n",
       "      <th>INCOME_GROUP</th>\n",
       "      <th>PUBLISHED_PHONE</th>\n",
       "      <th>MOR_HIT_RATE</th>\n",
       "      <th>WEALTH_RATING</th>\n",
       "      <th>MEDIAN_HOME_VALUE</th>\n",
       "      <th>MEDIAN_HOUSEHOLD_INCOME</th>\n",
       "      <th>...</th>\n",
       "      <th>OVERLAY_SOURCE_B</th>\n",
       "      <th>OVERLAY_SOURCE_M</th>\n",
       "      <th>OVERLAY_SOURCE_N</th>\n",
       "      <th>OVERLAY_SOURCE_P</th>\n",
       "      <th>RECENCY_STATUS_96NK_A</th>\n",
       "      <th>RECENCY_STATUS_96NK_E</th>\n",
       "      <th>RECENCY_STATUS_96NK_F</th>\n",
       "      <th>RECENCY_STATUS_96NK_L</th>\n",
       "      <th>RECENCY_STATUS_96NK_N</th>\n",
       "      <th>RECENCY_STATUS_96NK_S</th>\n",
       "    </tr>\n",
       "    <tr>\n",
       "      <th>CONTROL_NUMBER</th>\n",
       "      <th></th>\n",
       "      <th></th>\n",
       "      <th></th>\n",
       "      <th></th>\n",
       "      <th></th>\n",
       "      <th></th>\n",
       "      <th></th>\n",
       "      <th></th>\n",
       "      <th></th>\n",
       "      <th></th>\n",
       "      <th></th>\n",
       "      <th></th>\n",
       "      <th></th>\n",
       "      <th></th>\n",
       "      <th></th>\n",
       "      <th></th>\n",
       "      <th></th>\n",
       "      <th></th>\n",
       "      <th></th>\n",
       "      <th></th>\n",
       "      <th></th>\n",
       "    </tr>\n",
       "  </thead>\n",
       "  <tbody>\n",
       "    <tr>\n",
       "      <td>139</td>\n",
       "      <td>1</td>\n",
       "      <td>101</td>\n",
       "      <td>58.185917</td>\n",
       "      <td>0</td>\n",
       "      <td>5.0</td>\n",
       "      <td>0</td>\n",
       "      <td>0</td>\n",
       "      <td>5.0</td>\n",
       "      <td>655</td>\n",
       "      <td>219</td>\n",
       "      <td>...</td>\n",
       "      <td>0</td>\n",
       "      <td>0</td>\n",
       "      <td>1</td>\n",
       "      <td>0</td>\n",
       "      <td>1</td>\n",
       "      <td>0</td>\n",
       "      <td>0</td>\n",
       "      <td>0</td>\n",
       "      <td>0</td>\n",
       "      <td>0</td>\n",
       "    </tr>\n",
       "    <tr>\n",
       "      <td>142</td>\n",
       "      <td>0</td>\n",
       "      <td>137</td>\n",
       "      <td>58.185917</td>\n",
       "      <td>0</td>\n",
       "      <td>5.0</td>\n",
       "      <td>1</td>\n",
       "      <td>0</td>\n",
       "      <td>1.0</td>\n",
       "      <td>475</td>\n",
       "      <td>227</td>\n",
       "      <td>...</td>\n",
       "      <td>0</td>\n",
       "      <td>0</td>\n",
       "      <td>1</td>\n",
       "      <td>0</td>\n",
       "      <td>0</td>\n",
       "      <td>0</td>\n",
       "      <td>0</td>\n",
       "      <td>0</td>\n",
       "      <td>0</td>\n",
       "      <td>1</td>\n",
       "    </tr>\n",
       "    <tr>\n",
       "      <td>282</td>\n",
       "      <td>1</td>\n",
       "      <td>17</td>\n",
       "      <td>30.000000</td>\n",
       "      <td>0</td>\n",
       "      <td>6.0</td>\n",
       "      <td>1</td>\n",
       "      <td>11</td>\n",
       "      <td>5.0</td>\n",
       "      <td>1117</td>\n",
       "      <td>544</td>\n",
       "      <td>...</td>\n",
       "      <td>1</td>\n",
       "      <td>0</td>\n",
       "      <td>0</td>\n",
       "      <td>0</td>\n",
       "      <td>0</td>\n",
       "      <td>0</td>\n",
       "      <td>1</td>\n",
       "      <td>0</td>\n",
       "      <td>0</td>\n",
       "      <td>0</td>\n",
       "    </tr>\n",
       "    <tr>\n",
       "      <td>368</td>\n",
       "      <td>1</td>\n",
       "      <td>137</td>\n",
       "      <td>75.000000</td>\n",
       "      <td>0</td>\n",
       "      <td>6.0</td>\n",
       "      <td>1</td>\n",
       "      <td>1</td>\n",
       "      <td>7.0</td>\n",
       "      <td>2257</td>\n",
       "      <td>485</td>\n",
       "      <td>...</td>\n",
       "      <td>1</td>\n",
       "      <td>0</td>\n",
       "      <td>0</td>\n",
       "      <td>0</td>\n",
       "      <td>1</td>\n",
       "      <td>0</td>\n",
       "      <td>0</td>\n",
       "      <td>0</td>\n",
       "      <td>0</td>\n",
       "      <td>0</td>\n",
       "    </tr>\n",
       "    <tr>\n",
       "      <td>387</td>\n",
       "      <td>0</td>\n",
       "      <td>5</td>\n",
       "      <td>58.185917</td>\n",
       "      <td>0</td>\n",
       "      <td>2.0</td>\n",
       "      <td>0</td>\n",
       "      <td>0</td>\n",
       "      <td>5.0</td>\n",
       "      <td>789</td>\n",
       "      <td>413</td>\n",
       "      <td>...</td>\n",
       "      <td>1</td>\n",
       "      <td>0</td>\n",
       "      <td>0</td>\n",
       "      <td>0</td>\n",
       "      <td>1</td>\n",
       "      <td>0</td>\n",
       "      <td>0</td>\n",
       "      <td>0</td>\n",
       "      <td>0</td>\n",
       "      <td>0</td>\n",
       "    </tr>\n",
       "    <tr>\n",
       "      <td>...</td>\n",
       "      <td>...</td>\n",
       "      <td>...</td>\n",
       "      <td>...</td>\n",
       "      <td>...</td>\n",
       "      <td>...</td>\n",
       "      <td>...</td>\n",
       "      <td>...</td>\n",
       "      <td>...</td>\n",
       "      <td>...</td>\n",
       "      <td>...</td>\n",
       "      <td>...</td>\n",
       "      <td>...</td>\n",
       "      <td>...</td>\n",
       "      <td>...</td>\n",
       "      <td>...</td>\n",
       "      <td>...</td>\n",
       "      <td>...</td>\n",
       "      <td>...</td>\n",
       "      <td>...</td>\n",
       "      <td>...</td>\n",
       "      <td>...</td>\n",
       "    </tr>\n",
       "    <tr>\n",
       "      <td>190842</td>\n",
       "      <td>1</td>\n",
       "      <td>101</td>\n",
       "      <td>47.000000</td>\n",
       "      <td>1</td>\n",
       "      <td>2.0</td>\n",
       "      <td>1</td>\n",
       "      <td>3</td>\n",
       "      <td>7.0</td>\n",
       "      <td>531</td>\n",
       "      <td>272</td>\n",
       "      <td>...</td>\n",
       "      <td>1</td>\n",
       "      <td>0</td>\n",
       "      <td>0</td>\n",
       "      <td>0</td>\n",
       "      <td>1</td>\n",
       "      <td>0</td>\n",
       "      <td>0</td>\n",
       "      <td>0</td>\n",
       "      <td>0</td>\n",
       "      <td>0</td>\n",
       "    </tr>\n",
       "    <tr>\n",
       "      <td>191056</td>\n",
       "      <td>0</td>\n",
       "      <td>41</td>\n",
       "      <td>17.000000</td>\n",
       "      <td>1</td>\n",
       "      <td>4.0</td>\n",
       "      <td>1</td>\n",
       "      <td>16</td>\n",
       "      <td>9.0</td>\n",
       "      <td>5667</td>\n",
       "      <td>492</td>\n",
       "      <td>...</td>\n",
       "      <td>0</td>\n",
       "      <td>1</td>\n",
       "      <td>0</td>\n",
       "      <td>0</td>\n",
       "      <td>1</td>\n",
       "      <td>0</td>\n",
       "      <td>0</td>\n",
       "      <td>0</td>\n",
       "      <td>0</td>\n",
       "      <td>0</td>\n",
       "    </tr>\n",
       "    <tr>\n",
       "      <td>191164</td>\n",
       "      <td>1</td>\n",
       "      <td>89</td>\n",
       "      <td>55.000000</td>\n",
       "      <td>0</td>\n",
       "      <td>6.0</td>\n",
       "      <td>1</td>\n",
       "      <td>0</td>\n",
       "      <td>8.0</td>\n",
       "      <td>634</td>\n",
       "      <td>281</td>\n",
       "      <td>...</td>\n",
       "      <td>0</td>\n",
       "      <td>0</td>\n",
       "      <td>0</td>\n",
       "      <td>1</td>\n",
       "      <td>0</td>\n",
       "      <td>0</td>\n",
       "      <td>0</td>\n",
       "      <td>0</td>\n",
       "      <td>0</td>\n",
       "      <td>1</td>\n",
       "    </tr>\n",
       "    <tr>\n",
       "      <td>191484</td>\n",
       "      <td>0</td>\n",
       "      <td>65</td>\n",
       "      <td>42.000000</td>\n",
       "      <td>1</td>\n",
       "      <td>3.0</td>\n",
       "      <td>1</td>\n",
       "      <td>5</td>\n",
       "      <td>7.0</td>\n",
       "      <td>701</td>\n",
       "      <td>329</td>\n",
       "      <td>...</td>\n",
       "      <td>1</td>\n",
       "      <td>0</td>\n",
       "      <td>0</td>\n",
       "      <td>0</td>\n",
       "      <td>1</td>\n",
       "      <td>0</td>\n",
       "      <td>0</td>\n",
       "      <td>0</td>\n",
       "      <td>0</td>\n",
       "      <td>0</td>\n",
       "    </tr>\n",
       "    <tr>\n",
       "      <td>191710</td>\n",
       "      <td>1</td>\n",
       "      <td>137</td>\n",
       "      <td>77.000000</td>\n",
       "      <td>1</td>\n",
       "      <td>5.0</td>\n",
       "      <td>1</td>\n",
       "      <td>240</td>\n",
       "      <td>7.0</td>\n",
       "      <td>778</td>\n",
       "      <td>388</td>\n",
       "      <td>...</td>\n",
       "      <td>1</td>\n",
       "      <td>0</td>\n",
       "      <td>0</td>\n",
       "      <td>0</td>\n",
       "      <td>0</td>\n",
       "      <td>0</td>\n",
       "      <td>0</td>\n",
       "      <td>0</td>\n",
       "      <td>0</td>\n",
       "      <td>1</td>\n",
       "    </tr>\n",
       "  </tbody>\n",
       "</table>\n",
       "<p>2122 rows × 121 columns</p>\n",
       "</div>"
      ],
      "text/plain": [
       "                TARGET_PRED  MONTHS_SINCE_ORIGIN  DONOR_AGE  IN_HOUSE  \\\n",
       "CONTROL_NUMBER                                                          \n",
       "139                       1                  101  58.185917         0   \n",
       "142                       0                  137  58.185917         0   \n",
       "282                       1                   17  30.000000         0   \n",
       "368                       1                  137  75.000000         0   \n",
       "387                       0                    5  58.185917         0   \n",
       "...                     ...                  ...        ...       ...   \n",
       "190842                    1                  101  47.000000         1   \n",
       "191056                    0                   41  17.000000         1   \n",
       "191164                    1                   89  55.000000         0   \n",
       "191484                    0                   65  42.000000         1   \n",
       "191710                    1                  137  77.000000         1   \n",
       "\n",
       "                INCOME_GROUP  PUBLISHED_PHONE  MOR_HIT_RATE  WEALTH_RATING  \\\n",
       "CONTROL_NUMBER                                                               \n",
       "139                      5.0                0             0            5.0   \n",
       "142                      5.0                1             0            1.0   \n",
       "282                      6.0                1            11            5.0   \n",
       "368                      6.0                1             1            7.0   \n",
       "387                      2.0                0             0            5.0   \n",
       "...                      ...              ...           ...            ...   \n",
       "190842                   2.0                1             3            7.0   \n",
       "191056                   4.0                1            16            9.0   \n",
       "191164                   6.0                1             0            8.0   \n",
       "191484                   3.0                1             5            7.0   \n",
       "191710                   5.0                1           240            7.0   \n",
       "\n",
       "                MEDIAN_HOME_VALUE  MEDIAN_HOUSEHOLD_INCOME  ...  \\\n",
       "CONTROL_NUMBER                                              ...   \n",
       "139                           655                      219  ...   \n",
       "142                           475                      227  ...   \n",
       "282                          1117                      544  ...   \n",
       "368                          2257                      485  ...   \n",
       "387                           789                      413  ...   \n",
       "...                           ...                      ...  ...   \n",
       "190842                        531                      272  ...   \n",
       "191056                       5667                      492  ...   \n",
       "191164                        634                      281  ...   \n",
       "191484                        701                      329  ...   \n",
       "191710                        778                      388  ...   \n",
       "\n",
       "                OVERLAY_SOURCE_B  OVERLAY_SOURCE_M  OVERLAY_SOURCE_N  \\\n",
       "CONTROL_NUMBER                                                         \n",
       "139                            0                 0                 1   \n",
       "142                            0                 0                 1   \n",
       "282                            1                 0                 0   \n",
       "368                            1                 0                 0   \n",
       "387                            1                 0                 0   \n",
       "...                          ...               ...               ...   \n",
       "190842                         1                 0                 0   \n",
       "191056                         0                 1                 0   \n",
       "191164                         0                 0                 0   \n",
       "191484                         1                 0                 0   \n",
       "191710                         1                 0                 0   \n",
       "\n",
       "                OVERLAY_SOURCE_P  RECENCY_STATUS_96NK_A  \\\n",
       "CONTROL_NUMBER                                            \n",
       "139                            0                      1   \n",
       "142                            0                      0   \n",
       "282                            0                      0   \n",
       "368                            0                      1   \n",
       "387                            0                      1   \n",
       "...                          ...                    ...   \n",
       "190842                         0                      1   \n",
       "191056                         0                      1   \n",
       "191164                         1                      0   \n",
       "191484                         0                      1   \n",
       "191710                         0                      0   \n",
       "\n",
       "                RECENCY_STATUS_96NK_E  RECENCY_STATUS_96NK_F  \\\n",
       "CONTROL_NUMBER                                                 \n",
       "139                                 0                      0   \n",
       "142                                 0                      0   \n",
       "282                                 0                      1   \n",
       "368                                 0                      0   \n",
       "387                                 0                      0   \n",
       "...                               ...                    ...   \n",
       "190842                              0                      0   \n",
       "191056                              0                      0   \n",
       "191164                              0                      0   \n",
       "191484                              0                      0   \n",
       "191710                              0                      0   \n",
       "\n",
       "                RECENCY_STATUS_96NK_L  RECENCY_STATUS_96NK_N  \\\n",
       "CONTROL_NUMBER                                                 \n",
       "139                                 0                      0   \n",
       "142                                 0                      0   \n",
       "282                                 0                      0   \n",
       "368                                 0                      0   \n",
       "387                                 0                      0   \n",
       "...                               ...                    ...   \n",
       "190842                              0                      0   \n",
       "191056                              0                      0   \n",
       "191164                              0                      0   \n",
       "191484                              0                      0   \n",
       "191710                              0                      0   \n",
       "\n",
       "                RECENCY_STATUS_96NK_S  \n",
       "CONTROL_NUMBER                         \n",
       "139                                 0  \n",
       "142                                 1  \n",
       "282                                 0  \n",
       "368                                 0  \n",
       "387                                 0  \n",
       "...                               ...  \n",
       "190842                              0  \n",
       "191056                              0  \n",
       "191164                              1  \n",
       "191484                              0  \n",
       "191710                              1  \n",
       "\n",
       "[2122 rows x 121 columns]"
      ]
     },
     "execution_count": 185,
     "metadata": {},
     "output_type": "execute_result"
    }
   ],
   "source": [
    "prospective_donors_clean.insert(0, \"TARGET_PRED\", list(predictions), True)\n",
    "prospective_donors_clean"
   ]
  },
  {
   "cell_type": "code",
   "execution_count": 186,
   "metadata": {},
   "outputs": [],
   "source": [
    "prospective_donors_clean = prospective_donors_clean.reset_index()"
   ]
  },
  {
   "cell_type": "code",
   "execution_count": 190,
   "metadata": {},
   "outputs": [],
   "source": [
    "list_of_likely_donors = prospective_donors_clean['CONTROL_NUMBER', 'TARGET_PRED'][prospective_donors_clean['TARGET_PRED']==1]"
   ]
  },
  {
   "cell_type": "code",
   "execution_count": 198,
   "metadata": {},
   "outputs": [
    {
     "data": {
      "text/html": [
       "<div>\n",
       "<style scoped>\n",
       "    .dataframe tbody tr th:only-of-type {\n",
       "        vertical-align: middle;\n",
       "    }\n",
       "\n",
       "    .dataframe tbody tr th {\n",
       "        vertical-align: top;\n",
       "    }\n",
       "\n",
       "    .dataframe thead th {\n",
       "        text-align: right;\n",
       "    }\n",
       "</style>\n",
       "<table border=\"1\" class=\"dataframe\">\n",
       "  <thead>\n",
       "    <tr style=\"text-align: right;\">\n",
       "      <th></th>\n",
       "      <th>CONTROL_NUMBER</th>\n",
       "      <th>TARGET_PRED</th>\n",
       "    </tr>\n",
       "  </thead>\n",
       "  <tbody>\n",
       "    <tr>\n",
       "      <td>0</td>\n",
       "      <td>139</td>\n",
       "      <td>1</td>\n",
       "    </tr>\n",
       "    <tr>\n",
       "      <td>2</td>\n",
       "      <td>282</td>\n",
       "      <td>1</td>\n",
       "    </tr>\n",
       "    <tr>\n",
       "      <td>3</td>\n",
       "      <td>368</td>\n",
       "      <td>1</td>\n",
       "    </tr>\n",
       "    <tr>\n",
       "      <td>5</td>\n",
       "      <td>458</td>\n",
       "      <td>1</td>\n",
       "    </tr>\n",
       "    <tr>\n",
       "      <td>6</td>\n",
       "      <td>564</td>\n",
       "      <td>1</td>\n",
       "    </tr>\n",
       "    <tr>\n",
       "      <td>...</td>\n",
       "      <td>...</td>\n",
       "      <td>...</td>\n",
       "    </tr>\n",
       "    <tr>\n",
       "      <td>2113</td>\n",
       "      <td>190746</td>\n",
       "      <td>1</td>\n",
       "    </tr>\n",
       "    <tr>\n",
       "      <td>2114</td>\n",
       "      <td>190778</td>\n",
       "      <td>1</td>\n",
       "    </tr>\n",
       "    <tr>\n",
       "      <td>2117</td>\n",
       "      <td>190842</td>\n",
       "      <td>1</td>\n",
       "    </tr>\n",
       "    <tr>\n",
       "      <td>2119</td>\n",
       "      <td>191164</td>\n",
       "      <td>1</td>\n",
       "    </tr>\n",
       "    <tr>\n",
       "      <td>2121</td>\n",
       "      <td>191710</td>\n",
       "      <td>1</td>\n",
       "    </tr>\n",
       "  </tbody>\n",
       "</table>\n",
       "<p>1198 rows × 2 columns</p>\n",
       "</div>"
      ],
      "text/plain": [
       "      CONTROL_NUMBER  TARGET_PRED\n",
       "0                139            1\n",
       "2                282            1\n",
       "3                368            1\n",
       "5                458            1\n",
       "6                564            1\n",
       "...              ...          ...\n",
       "2113          190746            1\n",
       "2114          190778            1\n",
       "2117          190842            1\n",
       "2119          191164            1\n",
       "2121          191710            1\n",
       "\n",
       "[1198 rows x 2 columns]"
      ]
     },
     "execution_count": 198,
     "metadata": {},
     "output_type": "execute_result"
    }
   ],
   "source": [
    "prospective_donors_clean[['CONTROL_NUMBER', 'TARGET_PRED']][prospective_donors_clean['TARGET_PRED']==1]"
   ]
  },
  {
   "cell_type": "code",
   "execution_count": 196,
   "metadata": {},
   "outputs": [
    {
     "data": {
      "text/plain": [
       "1198"
      ]
     },
     "execution_count": 196,
     "metadata": {},
     "output_type": "execute_result"
    }
   ],
   "source": [
    "len(list_of_likely_donors)"
   ]
  },
  {
   "cell_type": "code",
   "execution_count": null,
   "metadata": {},
   "outputs": [],
   "source": []
  }
 ],
 "metadata": {
  "kernelspec": {
   "display_name": "Python 3",
   "language": "python",
   "name": "python3"
  },
  "language_info": {
   "codemirror_mode": {
    "name": "ipython",
    "version": 3
   },
   "file_extension": ".py",
   "mimetype": "text/x-python",
   "name": "python",
   "nbconvert_exporter": "python",
   "pygments_lexer": "ipython3",
   "version": "3.7.4"
  }
 },
 "nbformat": 4,
 "nbformat_minor": 2
}
